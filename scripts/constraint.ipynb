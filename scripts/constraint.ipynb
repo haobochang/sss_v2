{
 "cells": [
  {
   "cell_type": "code",
   "execution_count": null,
   "id": "17da01d6",
   "metadata": {},
   "outputs": [],
   "source": [
    "# MYSQL_real\n",
    "MYSQL_real = {\n",
    "    \"id\": 1,\n",
    "    \"Server\": \"mysql03.sci-inv.cn\",\n",
    "    \"UID\": \"sss\",\n",
    "    \"PWD\": \"bemJepAw6Ock\",\n",
    "    \"DATABASE\": \"rhino_sss\",\n",
    "    \"SERVER_TYPE\": \"mysql\",\n",
    "}\n",
    "\n",
    "import polars as pl\n",
    "import sqlalchemy\n",
    "\n",
    "# 构建MySQL连接字符串\n",
    "mysql_url = (\n",
    "    f\"mysql+pymysql://{MYSQL_real['UID']}:{MYSQL_real['PWD']}\"\n",
    "    f\"@{MYSQL_real['Server']}/{MYSQL_real['DATABASE']}\"\n",
    ")\n",
    "\n",
    "\n",
    "# 创建SQLAlchemy引擎\n",
    "engine = sqlalchemy.create_engine(mysql_url)\n"
   ]
  },
  {
   "cell_type": "code",
   "execution_count": 4,
   "id": "0d50eade",
   "metadata": {},
   "outputs": [
    {
     "data": {
      "text/html": [
       "<div><style>\n",
       ".dataframe > thead > tr,\n",
       ".dataframe > tbody > tr {\n",
       "  text-align: right;\n",
       "  white-space: pre-wrap;\n",
       "}\n",
       "</style>\n",
       "<small>shape: (3_971, 61)</small><table border=\"1\" class=\"dataframe\"><thead><tr><th>id</th><th>bs_id</th><th>name</th><th>model</th><th>sub_model</th><th>initial_position</th><th>symbols_max_wt</th><th>from_date</th><th>to_date</th><th>frequency</th><th>use_time</th><th>trade_time</th><th>benchmark</th><th>alpha_preprocess</th><th>shift_alpha</th><th>alpha_cut</th><th>size_cut</th><th>price_cut</th><th>listed_dates_num_cut</th><th>black_list</th><th>nobuy_symbols</th><th>nosell_symbols</th><th>sell_symbols</th><th>max_weight</th><th>weight_bias</th><th>if_liquid</th><th>universe_type</th><th>universe</th><th>universe_weight_min</th><th>benchmark_weight_min</th><th>style_up_limit</th><th>style_down_limit</th><th>size_up_limit</th><th>size_down_limit</th><th>industry_up_limit</th><th>industry_down_limit</th><th>specific_ind</th><th>specific_ind_exp_up</th><th>specific_ind_exp_down</th><th>second_ind</th><th>second_ind_exp_up</th><th>second_ind_exp_down</th><th>turnover_rate</th><th>risk_aversion</th><th>cost_aversion</th><th>max_risk</th><th>use_axioma</th><th>comms_slippange_stampduty</th><th>aum</th><th>index_aum</th><th>max_liq_awv</th><th>awv_cut</th><th>extra_constraints</th><th>dynamic_param</th><th>extra_industry_limit</th><th>float_cap_limit</th><th>listed_sector_limit</th><th>created_at</th><th>updated_at</th><th>status</th><th>updater</th></tr><tr><td>i64</td><td>i64</td><td>str</td><td>str</td><td>str</td><td>str</td><td>str</td><td>str</td><td>str</td><td>str</td><td>str</td><td>str</td><td>str</td><td>str</td><td>str</td><td>str</td><td>str</td><td>str</td><td>str</td><td>str</td><td>str</td><td>str</td><td>str</td><td>str</td><td>str</td><td>str</td><td>str</td><td>str</td><td>str</td><td>str</td><td>str</td><td>str</td><td>str</td><td>str</td><td>str</td><td>str</td><td>str</td><td>str</td><td>str</td><td>str</td><td>str</td><td>str</td><td>str</td><td>str</td><td>str</td><td>str</td><td>str</td><td>str</td><td>str</td><td>str</td><td>str</td><td>str</td><td>str</td><td>str</td><td>str</td><td>str</td><td>str</td><td>datetime[μs]</td><td>datetime[μs]</td><td>i64</td><td>str</td></tr></thead><tbody><tr><td>988041</td><td>100039</td><td>&quot;000300@avengers_a1@1430@cfg51@…</td><td>&quot;avengers_a1&quot;</td><td>&quot;14:30&quot;</td><td>&quot;True&quot;</td><td>&quot;None&quot;</td><td>&quot;2023-03-20&quot;</td><td>&quot;2023-04-25&quot;</td><td>&quot;1&quot;</td><td>&quot;1430_1500&quot;</td><td>&quot;1430_1500&quot;</td><td>&quot;000300.SSE&quot;</td><td>&quot;True&quot;</td><td>&quot;False&quot;</td><td>&quot;1&quot;</td><td>&quot;0.9&quot;</td><td>&quot;3&quot;</td><td>&quot;90&quot;</td><td>&quot;[&quot;ADIA.CITIC.*&quot;]&quot;</td><td>&quot;[]&quot;</td><td>&quot;[]&quot;</td><td>&quot;[]&quot;</td><td>&quot;0.005&quot;</td><td>&quot;[-0.02,0.02]&quot;</td><td>&quot;True&quot;</td><td>&quot;None&quot;</td><td>&quot;[]&quot;</td><td>&quot;0&quot;</td><td>&quot;0.68&quot;</td><td>&quot;None&quot;</td><td>&quot;None&quot;</td><td>&quot;0.5&quot;</td><td>&quot;-0.5&quot;</td><td>&quot;0.05&quot;</td><td>&quot;-0.05&quot;</td><td>&quot;[]&quot;</td><td>&quot;[]&quot;</td><td>&quot;[]&quot;</td><td>&quot;[]&quot;</td><td>&quot;[]&quot;</td><td>&quot;[]&quot;</td><td>&quot;0.2&quot;</td><td>&quot;300&quot;</td><td>&quot;0&quot;</td><td>&quot;None&quot;</td><td>&quot;False&quot;</td><td>&quot;[0.00035, 0.00015, 0.001]&quot;</td><td>&quot;2500000000&quot;</td><td>&quot;2500000000&quot;</td><td>&quot;0.3&quot;</td><td>&quot;1&quot;</td><td>&quot;None&quot;</td><td>&quot;None&quot;</td><td>&quot;None&quot;</td><td>&quot;None&quot;</td><td>null</td><td>2023-03-19 10:48:30</td><td>2024-09-03 15:45:18</td><td>1</td><td>&quot;&quot;</td></tr><tr><td>988042</td><td>100038</td><td>&quot;000300@avengers_a1@1330@cfg51@…</td><td>&quot;avengers_a1&quot;</td><td>&quot;13:30&quot;</td><td>&quot;True&quot;</td><td>&quot;None&quot;</td><td>&quot;2023-03-20&quot;</td><td>&quot;2023-04-25&quot;</td><td>&quot;1&quot;</td><td>&quot;1330_1400&quot;</td><td>&quot;1330_1400&quot;</td><td>&quot;000300.SSE&quot;</td><td>&quot;True&quot;</td><td>&quot;False&quot;</td><td>&quot;1&quot;</td><td>&quot;0.9&quot;</td><td>&quot;3&quot;</td><td>&quot;90&quot;</td><td>&quot;[&quot;ADIA.CITIC.*&quot;]&quot;</td><td>&quot;[]&quot;</td><td>&quot;[]&quot;</td><td>&quot;[]&quot;</td><td>&quot;0.005&quot;</td><td>&quot;[-0.02,0.02]&quot;</td><td>&quot;True&quot;</td><td>&quot;None&quot;</td><td>&quot;[]&quot;</td><td>&quot;0&quot;</td><td>&quot;0.68&quot;</td><td>&quot;None&quot;</td><td>&quot;None&quot;</td><td>&quot;0.5&quot;</td><td>&quot;-0.5&quot;</td><td>&quot;0.05&quot;</td><td>&quot;-0.05&quot;</td><td>&quot;[]&quot;</td><td>&quot;[]&quot;</td><td>&quot;[]&quot;</td><td>&quot;[]&quot;</td><td>&quot;[]&quot;</td><td>&quot;[]&quot;</td><td>&quot;0.2&quot;</td><td>&quot;300&quot;</td><td>&quot;0&quot;</td><td>&quot;None&quot;</td><td>&quot;False&quot;</td><td>&quot;[0.00035, 0.00015, 0.001]&quot;</td><td>&quot;2500000000&quot;</td><td>&quot;2500000000&quot;</td><td>&quot;0.3&quot;</td><td>&quot;1&quot;</td><td>&quot;None&quot;</td><td>&quot;None&quot;</td><td>&quot;None&quot;</td><td>&quot;None&quot;</td><td>null</td><td>2023-03-19 10:48:30</td><td>2024-09-03 15:45:18</td><td>1</td><td>&quot;&quot;</td></tr><tr><td>988043</td><td>100037</td><td>&quot;000300@avengers_a1@1100@cfg51@…</td><td>&quot;avengers_a1&quot;</td><td>&quot;11:00&quot;</td><td>&quot;True&quot;</td><td>&quot;None&quot;</td><td>&quot;2023-03-20&quot;</td><td>&quot;2023-04-25&quot;</td><td>&quot;1&quot;</td><td>&quot;1100_1300&quot;</td><td>&quot;1100_1300&quot;</td><td>&quot;000300.SSE&quot;</td><td>&quot;True&quot;</td><td>&quot;False&quot;</td><td>&quot;1&quot;</td><td>&quot;0.9&quot;</td><td>&quot;3&quot;</td><td>&quot;90&quot;</td><td>&quot;[&quot;ADIA.CITIC.*&quot;]&quot;</td><td>&quot;[]&quot;</td><td>&quot;[]&quot;</td><td>&quot;[]&quot;</td><td>&quot;0.005&quot;</td><td>&quot;[-0.02,0.02]&quot;</td><td>&quot;True&quot;</td><td>&quot;None&quot;</td><td>&quot;[]&quot;</td><td>&quot;0&quot;</td><td>&quot;0.68&quot;</td><td>&quot;None&quot;</td><td>&quot;None&quot;</td><td>&quot;0.5&quot;</td><td>&quot;-0.5&quot;</td><td>&quot;0.05&quot;</td><td>&quot;-0.05&quot;</td><td>&quot;[]&quot;</td><td>&quot;[]&quot;</td><td>&quot;[]&quot;</td><td>&quot;[]&quot;</td><td>&quot;[]&quot;</td><td>&quot;[]&quot;</td><td>&quot;0.2&quot;</td><td>&quot;300&quot;</td><td>&quot;0&quot;</td><td>&quot;None&quot;</td><td>&quot;False&quot;</td><td>&quot;[0.00035, 0.00015, 0.001]&quot;</td><td>&quot;2500000000&quot;</td><td>&quot;2500000000&quot;</td><td>&quot;0.3&quot;</td><td>&quot;1&quot;</td><td>&quot;None&quot;</td><td>&quot;None&quot;</td><td>&quot;None&quot;</td><td>&quot;None&quot;</td><td>null</td><td>2023-03-19 10:48:30</td><td>2024-09-03 15:45:18</td><td>1</td><td>&quot;&quot;</td></tr><tr><td>988044</td><td>100036</td><td>&quot;000300@avengers_a1@1000@cfg51@…</td><td>&quot;avengers_a1&quot;</td><td>&quot;10:00&quot;</td><td>&quot;True&quot;</td><td>&quot;None&quot;</td><td>&quot;2023-03-20&quot;</td><td>&quot;2023-04-25&quot;</td><td>&quot;1&quot;</td><td>&quot;1000_1030&quot;</td><td>&quot;1000_1030&quot;</td><td>&quot;000300.SSE&quot;</td><td>&quot;True&quot;</td><td>&quot;False&quot;</td><td>&quot;1&quot;</td><td>&quot;0.9&quot;</td><td>&quot;3&quot;</td><td>&quot;90&quot;</td><td>&quot;[&quot;ADIA.CITIC.*&quot;]&quot;</td><td>&quot;[]&quot;</td><td>&quot;[]&quot;</td><td>&quot;[]&quot;</td><td>&quot;0.005&quot;</td><td>&quot;[-0.02,0.02]&quot;</td><td>&quot;True&quot;</td><td>&quot;None&quot;</td><td>&quot;[]&quot;</td><td>&quot;0&quot;</td><td>&quot;0.68&quot;</td><td>&quot;None&quot;</td><td>&quot;None&quot;</td><td>&quot;0.5&quot;</td><td>&quot;-0.5&quot;</td><td>&quot;0.05&quot;</td><td>&quot;-0.05&quot;</td><td>&quot;[]&quot;</td><td>&quot;[]&quot;</td><td>&quot;[]&quot;</td><td>&quot;[]&quot;</td><td>&quot;[]&quot;</td><td>&quot;[]&quot;</td><td>&quot;0.2&quot;</td><td>&quot;300&quot;</td><td>&quot;0&quot;</td><td>&quot;None&quot;</td><td>&quot;False&quot;</td><td>&quot;[0.00035, 0.00015, 0.001]&quot;</td><td>&quot;2500000000&quot;</td><td>&quot;2500000000&quot;</td><td>&quot;0.3&quot;</td><td>&quot;1&quot;</td><td>&quot;None&quot;</td><td>&quot;None&quot;</td><td>&quot;None&quot;</td><td>&quot;None&quot;</td><td>null</td><td>2023-03-19 10:48:30</td><td>2024-09-03 15:45:18</td><td>1</td><td>&quot;&quot;</td></tr><tr><td>988045</td><td>100047</td><td>&quot;000300@treasure_v6@1430@cfg51@…</td><td>&quot;treasure_v6&quot;</td><td>&quot;14:30&quot;</td><td>&quot;True&quot;</td><td>&quot;None&quot;</td><td>&quot;2023-03-20&quot;</td><td>&quot;2023-05-11&quot;</td><td>&quot;1&quot;</td><td>&quot;1430_1500&quot;</td><td>&quot;1430_1500&quot;</td><td>&quot;000300.SSE&quot;</td><td>&quot;True&quot;</td><td>&quot;False&quot;</td><td>&quot;1&quot;</td><td>&quot;0.9&quot;</td><td>&quot;3&quot;</td><td>&quot;90&quot;</td><td>&quot;[&quot;ADIA.CITIC.*&quot;]&quot;</td><td>&quot;[]&quot;</td><td>&quot;[]&quot;</td><td>&quot;[]&quot;</td><td>&quot;0.005&quot;</td><td>&quot;[-0.02,0.02]&quot;</td><td>&quot;True&quot;</td><td>&quot;None&quot;</td><td>&quot;[]&quot;</td><td>&quot;0&quot;</td><td>&quot;0.68&quot;</td><td>&quot;None&quot;</td><td>&quot;None&quot;</td><td>&quot;0.5&quot;</td><td>&quot;-0.5&quot;</td><td>&quot;0.05&quot;</td><td>&quot;-0.05&quot;</td><td>&quot;[]&quot;</td><td>&quot;[]&quot;</td><td>&quot;[]&quot;</td><td>&quot;[]&quot;</td><td>&quot;[]&quot;</td><td>&quot;[]&quot;</td><td>&quot;0.2&quot;</td><td>&quot;300&quot;</td><td>&quot;0&quot;</td><td>&quot;None&quot;</td><td>&quot;False&quot;</td><td>&quot;[0.00035, 0.00015, 0.001]&quot;</td><td>&quot;2500000000&quot;</td><td>&quot;2500000000&quot;</td><td>&quot;0.3&quot;</td><td>&quot;1&quot;</td><td>&quot;None&quot;</td><td>&quot;None&quot;</td><td>&quot;None&quot;</td><td>&quot;None&quot;</td><td>null</td><td>2023-03-19 10:48:30</td><td>2024-09-03 15:45:18</td><td>1</td><td>&quot;&quot;</td></tr><tr><td>&hellip;</td><td>&hellip;</td><td>&hellip;</td><td>&hellip;</td><td>&hellip;</td><td>&hellip;</td><td>&hellip;</td><td>&hellip;</td><td>&hellip;</td><td>&hellip;</td><td>&hellip;</td><td>&hellip;</td><td>&hellip;</td><td>&hellip;</td><td>&hellip;</td><td>&hellip;</td><td>&hellip;</td><td>&hellip;</td><td>&hellip;</td><td>&hellip;</td><td>&hellip;</td><td>&hellip;</td><td>&hellip;</td><td>&hellip;</td><td>&hellip;</td><td>&hellip;</td><td>&hellip;</td><td>&hellip;</td><td>&hellip;</td><td>&hellip;</td><td>&hellip;</td><td>&hellip;</td><td>&hellip;</td><td>&hellip;</td><td>&hellip;</td><td>&hellip;</td><td>&hellip;</td><td>&hellip;</td><td>&hellip;</td><td>&hellip;</td><td>&hellip;</td><td>&hellip;</td><td>&hellip;</td><td>&hellip;</td><td>&hellip;</td><td>&hellip;</td><td>&hellip;</td><td>&hellip;</td><td>&hellip;</td><td>&hellip;</td><td>&hellip;</td><td>&hellip;</td><td>&hellip;</td><td>&hellip;</td><td>&hellip;</td><td>&hellip;</td><td>&hellip;</td><td>&hellip;</td><td>&hellip;</td><td>&hellip;</td><td>&hellip;</td></tr><tr><td>992368</td><td>103084</td><td>&quot;000300@avengers_v3_300@1430@cf…</td><td>&quot;avengers_v3_300&quot;</td><td>&quot;14:30&quot;</td><td>&quot;False&quot;</td><td>&quot;None&quot;</td><td>&quot;2025-07-21&quot;</td><td>null</td><td>&quot;1&quot;</td><td>&quot;1430_1500&quot;</td><td>&quot;1430_1500&quot;</td><td>&quot;000300.SSE&quot;</td><td>&quot;True&quot;</td><td>&quot;False&quot;</td><td>&quot;1&quot;</td><td>&quot;0.9&quot;</td><td>&quot;3&quot;</td><td>&quot;90&quot;</td><td>&quot;[&quot;comm_globe&quot;]&quot;</td><td>&quot;[]&quot;</td><td>&quot;[]&quot;</td><td>&quot;[]&quot;</td><td>&quot;0.005&quot;</td><td>&quot;[-0.02,0.02]&quot;</td><td>&quot;True&quot;</td><td>&quot;None&quot;</td><td>&quot;[]&quot;</td><td>&quot;0&quot;</td><td>&quot;0&quot;</td><td>&quot;None&quot;</td><td>&quot;None&quot;</td><td>&quot;1.0&quot;</td><td>&quot;-1.0&quot;</td><td>&quot;0.05&quot;</td><td>&quot;-0.05&quot;</td><td>&quot;[]&quot;</td><td>&quot;[]&quot;</td><td>&quot;[]&quot;</td><td>&quot;[]&quot;</td><td>&quot;[]&quot;</td><td>&quot;[]&quot;</td><td>&quot;0.1&quot;</td><td>&quot;0&quot;</td><td>&quot;0&quot;</td><td>&quot;None&quot;</td><td>&quot;False&quot;</td><td>&quot;[0.0003354, 0.00015, 0.0005]&quot;</td><td>&quot;1500000000&quot;</td><td>&quot;1500000000&quot;</td><td>&quot;0.15&quot;</td><td>&quot;1&quot;</td><td>&quot;None&quot;</td><td>&quot;[(&quot;parameter.avengers_v3&quot;, &quot;30…</td><td>&quot;None&quot;</td><td>&quot;None&quot;</td><td>&quot;None&quot;</td><td>2025-07-18 17:59:38</td><td>2025-07-18 17:59:38</td><td>1</td><td>&quot;AUTO-202507181759384CRmsB&quot;</td></tr><tr><td>992369</td><td>103085</td><td>&quot;000000@avengers_v3@1400@cfg899…</td><td>&quot;avengers_v3&quot;</td><td>&quot;14:00&quot;</td><td>&quot;False&quot;</td><td>&quot;None&quot;</td><td>&quot;2025-07-21&quot;</td><td>null</td><td>&quot;1&quot;</td><td>&quot;1400_1430&quot;</td><td>&quot;1400_1430&quot;</td><td>&quot;000000.EQL&quot;</td><td>&quot;True&quot;</td><td>&quot;False&quot;</td><td>&quot;1&quot;</td><td>&quot;0.9&quot;</td><td>&quot;3&quot;</td><td>&quot;90&quot;</td><td>&quot;[&quot;comm_globe&quot;]&quot;</td><td>&quot;[]&quot;</td><td>&quot;[]&quot;</td><td>&quot;[]&quot;</td><td>&quot;0.005&quot;</td><td>&quot;[]&quot;</td><td>&quot;True&quot;</td><td>&quot;None&quot;</td><td>&quot;[]&quot;</td><td>&quot;0&quot;</td><td>&quot;0&quot;</td><td>&quot;None&quot;</td><td>&quot;None&quot;</td><td>&quot;1.0&quot;</td><td>&quot;-1.0&quot;</td><td>&quot;0.10&quot;</td><td>&quot;-0.10&quot;</td><td>&quot;[]&quot;</td><td>&quot;[]&quot;</td><td>&quot;[]&quot;</td><td>&quot;[]&quot;</td><td>&quot;[]&quot;</td><td>&quot;[]&quot;</td><td>&quot;0.2&quot;</td><td>&quot;0&quot;</td><td>&quot;0&quot;</td><td>&quot;None&quot;</td><td>&quot;False&quot;</td><td>&quot;[0.0003354, 0.00015, 0.0005]&quot;</td><td>&quot;300000000&quot;</td><td>&quot;300000000&quot;</td><td>&quot;0.15&quot;</td><td>&quot;1&quot;</td><td>&quot;None&quot;</td><td>&quot;[(&quot;parameter.avengers_v3&quot;, &quot;50…</td><td>&quot;None&quot;</td><td>&quot;None&quot;</td><td>&quot;None&quot;</td><td>2025-07-18 18:02:29</td><td>2025-07-18 18:02:29</td><td>1</td><td>&quot;AUTO-20250718180229lvkwNF&quot;</td></tr><tr><td>992370</td><td>103086</td><td>&quot;000000@avengers_v3@1430@cfg899…</td><td>&quot;avengers_v3&quot;</td><td>&quot;14:30&quot;</td><td>&quot;False&quot;</td><td>&quot;None&quot;</td><td>&quot;2025-07-21&quot;</td><td>null</td><td>&quot;1&quot;</td><td>&quot;1430_1500&quot;</td><td>&quot;1430_1500&quot;</td><td>&quot;000000.EQL&quot;</td><td>&quot;True&quot;</td><td>&quot;False&quot;</td><td>&quot;1&quot;</td><td>&quot;0.9&quot;</td><td>&quot;3&quot;</td><td>&quot;90&quot;</td><td>&quot;[&quot;comm_globe&quot;]&quot;</td><td>&quot;[]&quot;</td><td>&quot;[]&quot;</td><td>&quot;[]&quot;</td><td>&quot;0.005&quot;</td><td>&quot;[]&quot;</td><td>&quot;True&quot;</td><td>&quot;None&quot;</td><td>&quot;[]&quot;</td><td>&quot;0&quot;</td><td>&quot;0&quot;</td><td>&quot;None&quot;</td><td>&quot;None&quot;</td><td>&quot;1.0&quot;</td><td>&quot;-1.0&quot;</td><td>&quot;0.10&quot;</td><td>&quot;-0.10&quot;</td><td>&quot;[]&quot;</td><td>&quot;[]&quot;</td><td>&quot;[]&quot;</td><td>&quot;[]&quot;</td><td>&quot;[]&quot;</td><td>&quot;[]&quot;</td><td>&quot;0.2&quot;</td><td>&quot;0&quot;</td><td>&quot;0&quot;</td><td>&quot;None&quot;</td><td>&quot;False&quot;</td><td>&quot;[0.0003354, 0.00015, 0.0005]&quot;</td><td>&quot;300000000&quot;</td><td>&quot;300000000&quot;</td><td>&quot;0.15&quot;</td><td>&quot;1&quot;</td><td>&quot;None&quot;</td><td>&quot;[(&quot;parameter.avengers_v3&quot;, &quot;50…</td><td>&quot;None&quot;</td><td>&quot;None&quot;</td><td>&quot;None&quot;</td><td>2025-07-18 18:02:29</td><td>2025-07-18 18:02:29</td><td>1</td><td>&quot;AUTO-20250718180229lvkwNF&quot;</td></tr><tr><td>992371</td><td>103087</td><td>&quot;000905@avengers_v3@1400@cfg897…</td><td>&quot;avengers_v3&quot;</td><td>&quot;14:00&quot;</td><td>&quot;False&quot;</td><td>&quot;None&quot;</td><td>&quot;2025-07-23&quot;</td><td>null</td><td>&quot;1&quot;</td><td>&quot;1400_1430&quot;</td><td>&quot;1400_1430&quot;</td><td>&quot;000905.SSE&quot;</td><td>&quot;True&quot;</td><td>&quot;False&quot;</td><td>&quot;1&quot;</td><td>&quot;0.9&quot;</td><td>&quot;3&quot;</td><td>&quot;90&quot;</td><td>&quot;[&quot;comm_globe&quot;]&quot;</td><td>&quot;[]&quot;</td><td>&quot;[]&quot;</td><td>&quot;[]&quot;</td><td>&quot;0.005&quot;</td><td>&quot;[]&quot;</td><td>&quot;True&quot;</td><td>&quot;None&quot;</td><td>&quot;[]&quot;</td><td>&quot;0&quot;</td><td>&quot;0&quot;</td><td>&quot;None&quot;</td><td>&quot;None&quot;</td><td>&quot;3.0&quot;</td><td>&quot;-3.0&quot;</td><td>&quot;0.05&quot;</td><td>&quot;-0.05&quot;</td><td>&quot;[]&quot;</td><td>&quot;[]&quot;</td><td>&quot;[]&quot;</td><td>&quot;[]&quot;</td><td>&quot;[]&quot;</td><td>&quot;[]&quot;</td><td>&quot;0.2&quot;</td><td>&quot;0&quot;</td><td>&quot;0&quot;</td><td>&quot;None&quot;</td><td>&quot;False&quot;</td><td>&quot;[0.0003354, 0.00015, 0.0005]&quot;</td><td>&quot;300000000&quot;</td><td>&quot;300000000&quot;</td><td>&quot;0.15&quot;</td><td>&quot;1&quot;</td><td>&quot;None&quot;</td><td>&quot;[(&quot;parameter.avengers_v3&quot;, &quot;50…</td><td>&quot;None&quot;</td><td>&quot;None&quot;</td><td>&quot;None&quot;</td><td>2025-07-22 15:23:43</td><td>2025-07-22 15:23:43</td><td>1</td><td>&quot;AUTO-20250722152343w8Qz0g&quot;</td></tr><tr><td>992372</td><td>103088</td><td>&quot;000905@avengers_v3@1430@cfg897…</td><td>&quot;avengers_v3&quot;</td><td>&quot;14:30&quot;</td><td>&quot;False&quot;</td><td>&quot;None&quot;</td><td>&quot;2025-07-23&quot;</td><td>null</td><td>&quot;1&quot;</td><td>&quot;1430_1500&quot;</td><td>&quot;1430_1500&quot;</td><td>&quot;000905.SSE&quot;</td><td>&quot;True&quot;</td><td>&quot;False&quot;</td><td>&quot;1&quot;</td><td>&quot;0.9&quot;</td><td>&quot;3&quot;</td><td>&quot;90&quot;</td><td>&quot;[&quot;comm_globe&quot;]&quot;</td><td>&quot;[]&quot;</td><td>&quot;[]&quot;</td><td>&quot;[]&quot;</td><td>&quot;0.005&quot;</td><td>&quot;[]&quot;</td><td>&quot;True&quot;</td><td>&quot;None&quot;</td><td>&quot;[]&quot;</td><td>&quot;0&quot;</td><td>&quot;0&quot;</td><td>&quot;None&quot;</td><td>&quot;None&quot;</td><td>&quot;3.0&quot;</td><td>&quot;-3.0&quot;</td><td>&quot;0.05&quot;</td><td>&quot;-0.05&quot;</td><td>&quot;[]&quot;</td><td>&quot;[]&quot;</td><td>&quot;[]&quot;</td><td>&quot;[]&quot;</td><td>&quot;[]&quot;</td><td>&quot;[]&quot;</td><td>&quot;0.2&quot;</td><td>&quot;0&quot;</td><td>&quot;0&quot;</td><td>&quot;None&quot;</td><td>&quot;False&quot;</td><td>&quot;[0.0003354, 0.00015, 0.0005]&quot;</td><td>&quot;300000000&quot;</td><td>&quot;300000000&quot;</td><td>&quot;0.15&quot;</td><td>&quot;1&quot;</td><td>&quot;None&quot;</td><td>&quot;[(&quot;parameter.avengers_v3&quot;, &quot;50…</td><td>&quot;None&quot;</td><td>&quot;None&quot;</td><td>&quot;None&quot;</td><td>2025-07-22 15:23:43</td><td>2025-07-22 15:23:43</td><td>1</td><td>&quot;AUTO-20250722152343w8Qz0g&quot;</td></tr></tbody></table></div>"
      ],
      "text/plain": [
       "shape: (3_971, 61)\n",
       "┌────────┬────────┬─────────────┬─────────────┬───┬─────────────┬────────────┬────────┬────────────┐\n",
       "│ id     ┆ bs_id  ┆ name        ┆ model       ┆ … ┆ created_at  ┆ updated_at ┆ status ┆ updater    │\n",
       "│ ---    ┆ ---    ┆ ---         ┆ ---         ┆   ┆ ---         ┆ ---        ┆ ---    ┆ ---        │\n",
       "│ i64    ┆ i64    ┆ str         ┆ str         ┆   ┆ datetime[μs ┆ datetime[μ ┆ i64    ┆ str        │\n",
       "│        ┆        ┆             ┆             ┆   ┆ ]           ┆ s]         ┆        ┆            │\n",
       "╞════════╪════════╪═════════════╪═════════════╪═══╪═════════════╪════════════╪════════╪════════════╡\n",
       "│ 988041 ┆ 100039 ┆ 000300@aven ┆ avengers_a1 ┆ … ┆ 2023-03-19  ┆ 2024-09-03 ┆ 1      ┆            │\n",
       "│        ┆        ┆ gers_a1@143 ┆             ┆   ┆ 10:48:30    ┆ 15:45:18   ┆        ┆            │\n",
       "│        ┆        ┆ 0@cfg51@…   ┆             ┆   ┆             ┆            ┆        ┆            │\n",
       "│ 988042 ┆ 100038 ┆ 000300@aven ┆ avengers_a1 ┆ … ┆ 2023-03-19  ┆ 2024-09-03 ┆ 1      ┆            │\n",
       "│        ┆        ┆ gers_a1@133 ┆             ┆   ┆ 10:48:30    ┆ 15:45:18   ┆        ┆            │\n",
       "│        ┆        ┆ 0@cfg51@…   ┆             ┆   ┆             ┆            ┆        ┆            │\n",
       "│ 988043 ┆ 100037 ┆ 000300@aven ┆ avengers_a1 ┆ … ┆ 2023-03-19  ┆ 2024-09-03 ┆ 1      ┆            │\n",
       "│        ┆        ┆ gers_a1@110 ┆             ┆   ┆ 10:48:30    ┆ 15:45:18   ┆        ┆            │\n",
       "│        ┆        ┆ 0@cfg51@…   ┆             ┆   ┆             ┆            ┆        ┆            │\n",
       "│ 988044 ┆ 100036 ┆ 000300@aven ┆ avengers_a1 ┆ … ┆ 2023-03-19  ┆ 2024-09-03 ┆ 1      ┆            │\n",
       "│        ┆        ┆ gers_a1@100 ┆             ┆   ┆ 10:48:30    ┆ 15:45:18   ┆        ┆            │\n",
       "│        ┆        ┆ 0@cfg51@…   ┆             ┆   ┆             ┆            ┆        ┆            │\n",
       "│ 988045 ┆ 100047 ┆ 000300@trea ┆ treasure_v6 ┆ … ┆ 2023-03-19  ┆ 2024-09-03 ┆ 1      ┆            │\n",
       "│        ┆        ┆ sure_v6@143 ┆             ┆   ┆ 10:48:30    ┆ 15:45:18   ┆        ┆            │\n",
       "│        ┆        ┆ 0@cfg51@…   ┆             ┆   ┆             ┆            ┆        ┆            │\n",
       "│ …      ┆ …      ┆ …           ┆ …           ┆ … ┆ …           ┆ …          ┆ …      ┆ …          │\n",
       "│ 992368 ┆ 103084 ┆ 000300@aven ┆ avengers_v3 ┆ … ┆ 2025-07-18  ┆ 2025-07-18 ┆ 1      ┆ AUTO-20250 │\n",
       "│        ┆        ┆ gers_v3_300 ┆ _300        ┆   ┆ 17:59:38    ┆ 17:59:38   ┆        ┆ 7181759384 │\n",
       "│        ┆        ┆ @1430@cf…   ┆             ┆   ┆             ┆            ┆        ┆ CRmsB      │\n",
       "│ 992369 ┆ 103085 ┆ 000000@aven ┆ avengers_v3 ┆ … ┆ 2025-07-18  ┆ 2025-07-18 ┆ 1      ┆ AUTO-20250 │\n",
       "│        ┆        ┆ gers_v3@140 ┆             ┆   ┆ 18:02:29    ┆ 18:02:29   ┆        ┆ 718180229l │\n",
       "│        ┆        ┆ 0@cfg899…   ┆             ┆   ┆             ┆            ┆        ┆ vkwNF      │\n",
       "│ 992370 ┆ 103086 ┆ 000000@aven ┆ avengers_v3 ┆ … ┆ 2025-07-18  ┆ 2025-07-18 ┆ 1      ┆ AUTO-20250 │\n",
       "│        ┆        ┆ gers_v3@143 ┆             ┆   ┆ 18:02:29    ┆ 18:02:29   ┆        ┆ 718180229l │\n",
       "│        ┆        ┆ 0@cfg899…   ┆             ┆   ┆             ┆            ┆        ┆ vkwNF      │\n",
       "│ 992371 ┆ 103087 ┆ 000905@aven ┆ avengers_v3 ┆ … ┆ 2025-07-22  ┆ 2025-07-22 ┆ 1      ┆ AUTO-20250 │\n",
       "│        ┆        ┆ gers_v3@140 ┆             ┆   ┆ 15:23:43    ┆ 15:23:43   ┆        ┆ 722152343w │\n",
       "│        ┆        ┆ 0@cfg897…   ┆             ┆   ┆             ┆            ┆        ┆ 8Qz0g      │\n",
       "│ 992372 ┆ 103088 ┆ 000905@aven ┆ avengers_v3 ┆ … ┆ 2025-07-22  ┆ 2025-07-22 ┆ 1      ┆ AUTO-20250 │\n",
       "│        ┆        ┆ gers_v3@143 ┆             ┆   ┆ 15:23:43    ┆ 15:23:43   ┆        ┆ 722152343w │\n",
       "│        ┆        ┆ 0@cfg897…   ┆             ┆   ┆             ┆            ┆        ┆ 8Qz0g      │\n",
       "└────────┴────────┴─────────────┴─────────────┴───┴─────────────┴────────────┴────────┴────────────┘"
      ]
     },
     "execution_count": 4,
     "metadata": {},
     "output_type": "execute_result"
    }
   ],
   "source": [
    "# 查询bs_info_v2表的全部数据\n",
    "with engine.connect() as conn:\n",
    "    df = pl.read_database(\"SELECT * FROM bs_info_v2\", conn, infer_schema_length=10000)\n",
    "\n",
    "df"
   ]
  },
  {
   "cell_type": "code",
   "execution_count": 19,
   "id": "51e5d31e",
   "metadata": {},
   "outputs": [],
   "source": [
    "# 统计每一列的唯一值及其出现次数\n",
    "from pathlib import Path\n",
    "\n",
    "with Path(\"constraint.txt\").open(\"w\") as f:\n",
    "    for col in df.columns:\n",
    "        f.write(f\"列名: {col}\\n\")\n",
    "        f.write(str(df[col].value_counts().sort(\"count\", descending=True)))\n",
    "        f.write(\"\\n\")\n",
    "        f.write(\"-\" * 50)\n",
    "        f.write(\"\\n\")\n"
   ]
  },
  {
   "cell_type": "code",
   "execution_count": 11,
   "id": "ad88d47a",
   "metadata": {},
   "outputs": [
    {
     "data": {
      "text/html": [
       "<div><style>\n",
       ".dataframe > thead > tr,\n",
       ".dataframe > tbody > tr {\n",
       "  text-align: right;\n",
       "  white-space: pre-wrap;\n",
       "}\n",
       "</style>\n",
       "<small>shape: (14, 2)</small><table border=\"1\" class=\"dataframe\"><thead><tr><th>universe_type</th><th>universe</th></tr><tr><td>str</td><td>str</td></tr></thead><tbody><tr><td>&quot;index&quot;</td><td>&quot;[&quot;000852.SSE&quot;]&quot;</td></tr><tr><td>&quot;index&quot;</td><td>&quot;[&quot;000300.SSE&quot;,&quot;000905.SSE&quot;,&quot;00…</td></tr><tr><td>&quot;index&quot;</td><td>&quot;[&quot;000300.SSE&quot;]&quot;</td></tr><tr><td>&quot;index&quot;</td><td>&quot;[&quot;000905.SSE&quot;]&quot;</td></tr><tr><td>&quot;index&quot;</td><td>&quot;[&quot;688300.EQL&quot;]&quot;</td></tr><tr><td>&hellip;</td><td>&hellip;</td></tr><tr><td>&quot;broker&quot;</td><td>&quot;[&quot;非科创板&quot;]&quot;</td></tr><tr><td>&quot;broker&quot;</td><td>&quot;[&quot;非创业板&quot;]&quot;</td></tr><tr><td>&quot;broker&quot;</td><td>&quot;[&#x27;922_stockdiv_top500&#x27;]&quot;</td></tr><tr><td>&quot;None&quot;</td><td>&quot;[&quot;非创业板&quot;]&quot;</td></tr><tr><td>&quot;None&quot;</td><td>&quot;[]&quot;</td></tr></tbody></table></div>"
      ],
      "text/plain": [
       "shape: (14, 2)\n",
       "┌───────────────┬─────────────────────────────────┐\n",
       "│ universe_type ┆ universe                        │\n",
       "│ ---           ┆ ---                             │\n",
       "│ str           ┆ str                             │\n",
       "╞═══════════════╪═════════════════════════════════╡\n",
       "│ index         ┆ [\"000852.SSE\"]                  │\n",
       "│ index         ┆ [\"000300.SSE\",\"000905.SSE\",\"00… │\n",
       "│ index         ┆ [\"000300.SSE\"]                  │\n",
       "│ index         ┆ [\"000905.SSE\"]                  │\n",
       "│ index         ┆ [\"688300.EQL\"]                  │\n",
       "│ …             ┆ …                               │\n",
       "│ broker        ┆ [\"非科创板\"]                    │\n",
       "│ broker        ┆ [\"非创业板\"]                    │\n",
       "│ broker        ┆ ['922_stockdiv_top500']         │\n",
       "│ None          ┆ [\"非创业板\"]                    │\n",
       "│ None          ┆ []                              │\n",
       "└───────────────┴─────────────────────────────────┘"
      ]
     },
     "execution_count": 11,
     "metadata": {},
     "output_type": "execute_result"
    }
   ],
   "source": [
    "df.select(\"universe_type\", \"universe\").unique().sort(\"universe_type\", descending=True)"
   ]
  },
  {
   "cell_type": "code",
   "execution_count": null,
   "id": "eeeca20d",
   "metadata": {},
   "outputs": [
    {
     "data": {
      "text/html": [
       "<div><style>\n",
       ".dataframe > thead > tr,\n",
       ".dataframe > tbody > tr {\n",
       "  text-align: right;\n",
       "  white-space: pre-wrap;\n",
       "}\n",
       "</style>\n",
       "<small>shape: (9, 2)</small><table border=\"1\" class=\"dataframe\"><thead><tr><th>size_up_limit</th><th>size_down_limit</th></tr><tr><td>str</td><td>str</td></tr></thead><tbody><tr><td>&quot;0&quot;</td><td>&quot;0&quot;</td></tr><tr><td>&quot;3.0&quot;</td><td>&quot;-3.0&quot;</td></tr><tr><td>&quot;0.5&quot;</td><td>&quot;-0.5&quot;</td></tr><tr><td>&quot;3&quot;</td><td>&quot;-3&quot;</td></tr><tr><td>&quot;0.25&quot;</td><td>&quot;-0.25&quot;</td></tr><tr><td>&quot;1&quot;</td><td>&quot;-1&quot;</td></tr><tr><td>&quot;0.3&quot;</td><td>&quot;-0.3&quot;</td></tr><tr><td>&quot;0.2&quot;</td><td>&quot;-0.2&quot;</td></tr><tr><td>&quot;1.0&quot;</td><td>&quot;-1.0&quot;</td></tr></tbody></table></div>"
      ],
      "text/plain": [
       "shape: (9, 2)\n",
       "┌───────────────┬─────────────────┐\n",
       "│ size_up_limit ┆ size_down_limit │\n",
       "│ ---           ┆ ---             │\n",
       "│ str           ┆ str             │\n",
       "╞═══════════════╪═════════════════╡\n",
       "│ 0             ┆ 0               │\n",
       "│ 3.0           ┆ -3.0            │\n",
       "│ 0.5           ┆ -0.5            │\n",
       "│ 3             ┆ -3              │\n",
       "│ 0.25          ┆ -0.25           │\n",
       "│ 1             ┆ -1              │\n",
       "│ 0.3           ┆ -0.3            │\n",
       "│ 0.2           ┆ -0.2            │\n",
       "│ 1.0           ┆ -1.0            │\n",
       "└───────────────┴─────────────────┘"
      ]
     },
     "execution_count": 12,
     "metadata": {},
     "output_type": "execute_result"
    }
   ],
   "source": [
    "df.select(\"size_up_limit\", \"size_down_limit\").unique()"
   ]
  },
  {
   "cell_type": "code",
   "execution_count": null,
   "id": "4dd2c43f",
   "metadata": {},
   "outputs": [
    {
     "data": {
      "text/html": [
       "<div><style>\n",
       ".dataframe > thead > tr,\n",
       ".dataframe > tbody > tr {\n",
       "  text-align: right;\n",
       "  white-space: pre-wrap;\n",
       "}\n",
       "</style>\n",
       "<small>shape: (6, 2)</small><table border=\"1\" class=\"dataframe\"><thead><tr><th>style_up_limit</th><th>style_down_limit</th></tr><tr><td>str</td><td>str</td></tr></thead><tbody><tr><td>&quot;0.2&quot;</td><td>&quot;-0.2&quot;</td></tr><tr><td>&quot;None&quot;</td><td>&quot;None&quot;</td></tr><tr><td>&quot;{&quot;NLSize&quot;:0.3}&quot;</td><td>&quot;{&quot;NLSize&quot;:-3}&quot;</td></tr><tr><td>&quot;0.3&quot;</td><td>&quot;-0.3&quot;</td></tr><tr><td>&quot;{&quot;NLSize&quot;:0.8}&quot;</td><td>&quot;{&quot;NLSize&quot;:-0.8}&quot;</td></tr><tr><td>&quot;{&quot;NLSize&quot;:0.6}&quot;</td><td>&quot;{&quot;NLSize&quot;:-0.6}&quot;</td></tr></tbody></table></div>"
      ],
      "text/plain": [
       "shape: (6, 2)\n",
       "┌────────────────┬──────────────────┐\n",
       "│ style_up_limit ┆ style_down_limit │\n",
       "│ ---            ┆ ---              │\n",
       "│ str            ┆ str              │\n",
       "╞════════════════╪══════════════════╡\n",
       "│ 0.2            ┆ -0.2             │\n",
       "│ None           ┆ None             │\n",
       "│ {\"NLSize\":0.3} ┆ {\"NLSize\":-3}    │\n",
       "│ 0.3            ┆ -0.3             │\n",
       "│ {\"NLSize\":0.8} ┆ {\"NLSize\":-0.8}  │\n",
       "│ {\"NLSize\":0.6} ┆ {\"NLSize\":-0.6}  │\n",
       "└────────────────┴──────────────────┘"
      ]
     },
     "execution_count": 13,
     "metadata": {},
     "output_type": "execute_result"
    }
   ],
   "source": [
    "df.select(\"style_up_limit\", \"style_down_limit\").unique()"
   ]
  },
  {
   "cell_type": "code",
   "execution_count": 18,
   "id": "6aae9c09",
   "metadata": {},
   "outputs": [
    {
     "data": {
      "text/plain": [
       "[{'model': 'vision_v3_pro',\n",
       "  'dynamic_param': '[(\"parameter.vision_v1\", \"500_jingxuan\", \"*\")]\\n'},\n",
       " {'model': 'avengers_v3_300',\n",
       "  'dynamic_param': '[(\"parameter.avengers_v3\", \"300adia\", \"*\")]'},\n",
       " {'model': 'avengers_v3',\n",
       "  'dynamic_param': '[(\"parameter.avengers_v3\", \"500jingxuan\", \"*\")]'},\n",
       " {'model': 'avengers_v2',\n",
       "  'dynamic_param': '[(\"parameter.avengers_v2\", \"500_jingxuan_v0\", \"*\")]'}]"
      ]
     },
     "execution_count": 18,
     "metadata": {},
     "output_type": "execute_result"
    }
   ],
   "source": [
    "df.filter(pl.col(\"dynamic_param\") != \"None\").select(\"model\", \"dynamic_param\").unique().to_dicts()"
   ]
  },
  {
   "cell_type": "code",
   "execution_count": 16,
   "id": "1011287c",
   "metadata": {},
   "outputs": [
    {
     "data": {
      "text/plain": [
       "[{'sub_model': '14:00', 'use_time': '1400_1430', 'trade_time': '1400_1430'},\n",
       " {'sub_model': '10:00', 'use_time': '1000_1030', 'trade_time': '1000_1030'},\n",
       " {'sub_model': '09:30', 'use_time': '0930_1000', 'trade_time': '0930_1000'},\n",
       " {'sub_model': '11:00', 'use_time': '1100_1300', 'trade_time': '1100_1300'},\n",
       " {'sub_model': '13:30', 'use_time': '1330_1400', 'trade_time': '1330_1400'},\n",
       " {'sub_model': '14:30', 'use_time': '1430_1500', 'trade_time': '1430_1500'},\n",
       " {'sub_model': '11:30', 'use_time': '1300_1330', 'trade_time': '1300_1330'},\n",
       " {'sub_model': '16:30', 'use_time': '1630_1700', 'trade_time': '1630_1700'},\n",
       " {'sub_model': '15:00', 'use_time': '1500_1500', 'trade_time': '1500_1500'},\n",
       " {'sub_model': '10:00', 'use_time': '1000_1330', 'trade_time': '1000_1330'},\n",
       " {'sub_model': '16:00', 'use_time': '1000_1030', 'trade_time': '1000_1030'},\n",
       " {'sub_model': '10:30', 'use_time': '1030_1100', 'trade_time': '1030_1100'}]"
      ]
     },
     "execution_count": 16,
     "metadata": {},
     "output_type": "execute_result"
    }
   ],
   "source": [
    "df.select(\"sub_model\", \"use_time\", \"trade_time\").unique().to_dicts()"
   ]
  },
  {
   "cell_type": "code",
   "execution_count": null,
   "id": "2975324c",
   "metadata": {},
   "outputs": [
    {
     "ename": "ValueError",
     "evalue": "hour must be in 0..23",
     "output_type": "error",
     "traceback": [
      "\u001b[31m---------------------------------------------------------------------------\u001b[39m",
      "\u001b[31mValueError\u001b[39m                                Traceback (most recent call last)",
      "\u001b[36mCell\u001b[39m\u001b[36m \u001b[39m\u001b[32mIn[3]\u001b[39m\u001b[32m, line 4\u001b[39m\n\u001b[32m      1\u001b[39m \u001b[38;5;28;01mfrom\u001b[39;00m\u001b[38;5;250m \u001b[39m\u001b[34;01mdatetime\u001b[39;00m\u001b[38;5;250m \u001b[39m\u001b[38;5;28;01mimport\u001b[39;00m time\n\u001b[32m----> \u001b[39m\u001b[32m4\u001b[39m t = \u001b[43mtime\u001b[49m\u001b[43m(\u001b[49m\u001b[32;43m25\u001b[39;49m\u001b[43m,\u001b[49m\u001b[43m \u001b[49m\u001b[32;43m30\u001b[39;49m\u001b[43m)\u001b[49m\n\u001b[32m      5\u001b[39m t\n",
      "\u001b[31mValueError\u001b[39m: hour must be in 0..23"
     ]
    }
   ],
   "source": [
    "from datetime import time\n",
    "\n",
    "t = time(25, 30)\n",
    "t\n"
   ]
  }
 ],
 "metadata": {
  "kernelspec": {
   "display_name": ".venv",
   "language": "python",
   "name": "python3"
  },
  "language_info": {
   "codemirror_mode": {
    "name": "ipython",
    "version": 3
   },
   "file_extension": ".py",
   "mimetype": "text/x-python",
   "name": "python",
   "nbconvert_exporter": "python",
   "pygments_lexer": "ipython3",
   "version": "3.12.7"
  }
 },
 "nbformat": 4,
 "nbformat_minor": 5
}
