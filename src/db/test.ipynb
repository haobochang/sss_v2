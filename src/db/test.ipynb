{
 "cells": [
  {
   "cell_type": "code",
   "execution_count": 1,
   "id": "220323db",
   "metadata": {},
   "outputs": [
    {
     "name": "stdout",
     "output_type": "stream",
     "text": [
      "env: APP_ENV=prod\n"
     ]
    }
   ],
   "source": [
    "%env APP_ENV=prod"
   ]
  },
  {
   "cell_type": "code",
   "execution_count": 7,
   "id": "57224cb3",
   "metadata": {},
   "outputs": [],
   "source": [
    "import time\n",
    "\n",
    "import polars as pl\n",
    "from sqlalchemy import select\n",
    "\n",
    "from src.db.database import get_db_session\n",
    "from src.db.models import FundSnapshotDao\n",
    "\n",
    "\n",
    "def time_cost(func):\n",
    "    def wrapper(*args, **kwargs):\n",
    "        start_time = time.time()\n",
    "        result = func(*args, **kwargs)\n",
    "        end_time = time.time()\n",
    "        print(f\"Time cost: {end_time - start_time} seconds\")\n",
    "        return result\n",
    "\n",
    "    return wrapper\n",
    "\n",
    "\n",
    "@time_cost\n",
    "def test_read():\n",
    "    with get_db_session() as session:\n",
    "        stmt = select(FundSnapshotDao)\n",
    "        result = session.execute(stmt).scalars().all()\n",
    "        print(result[0])\n",
    "        df = pl.DataFrame(result)\n",
    "    return df\n"
   ]
  },
  {
   "cell_type": "code",
   "execution_count": 8,
   "id": "78f5a8ba",
   "metadata": {},
   "outputs": [
    {
     "name": "stdout",
     "output_type": "stream",
     "text": [
      "FundSnapshotDao(id=1, fund_id=153, fund_asset=Decimal('4994044.287400'), is_id=124, is_name='高频择时', is_type='高频择时', bsp_id=None, bsp_name=None, bsp_type='stock', sa_type='mercury9', is_wt=0.42133333333333345, bsp_wt=1.0, basis_pos_pct=None, mv_wt=0.4213333333333335, bsp_asset=Decimal('2104157.326425'), bsp_mv=2104157.326424534, bsp_share=None, future_price=None, target_is_expo=0.42133333333333345, trading_day=datetime.date(2025, 5, 29), updater='AUTO-20250529084934701981')\n",
      "Time cost: 0.7290666103363037 seconds\n"
     ]
    }
   ],
   "source": [
    "df = test_read()"
   ]
  },
  {
   "cell_type": "code",
   "execution_count": 14,
   "id": "7c83b7b1",
   "metadata": {},
   "outputs": [],
   "source": [
    "import datetime"
   ]
  },
  {
   "cell_type": "code",
   "execution_count": 18,
   "id": "7c6c9789",
   "metadata": {},
   "outputs": [
    {
     "data": {
      "text/html": [
       "<div><style>\n",
       ".dataframe > thead > tr,\n",
       ".dataframe > tbody > tr {\n",
       "  text-align: right;\n",
       "  white-space: pre-wrap;\n",
       "}\n",
       "</style>\n",
       "<small>shape: (3, 21)</small><table border=\"1\" class=\"dataframe\"><thead><tr><th>id</th><th>fund_id</th><th>fund_asset</th><th>is_id</th><th>is_name</th><th>is_type</th><th>bsp_id</th><th>bsp_name</th><th>bsp_type</th><th>sa_type</th><th>is_wt</th><th>bsp_wt</th><th>basis_pos_pct</th><th>mv_wt</th><th>bsp_asset</th><th>bsp_mv</th><th>bsp_share</th><th>future_price</th><th>target_is_expo</th><th>trading_day</th><th>updater</th></tr><tr><td>i64</td><td>i64</td><td>decimal[*,6]</td><td>i64</td><td>str</td><td>str</td><td>i64</td><td>str</td><td>str</td><td>str</td><td>f64</td><td>f64</td><td>f64</td><td>f64</td><td>decimal[*,6]</td><td>f64</td><td>i64</td><td>f64</td><td>f64</td><td>date</td><td>str</td></tr></thead><tbody><tr><td>14042</td><td>1</td><td>38183390.847800</td><td>64</td><td>&quot;500指增&quot;</td><td>&quot;500指增&quot;</td><td>1512</td><td>&quot;IC_long_comm&quot;</td><td>&quot;future&quot;</td><td>&quot;alpha&quot;</td><td>0.997073</td><td>0.031299</td><td>1.0</td><td>0.031207</td><td>1191600.000000</td><td>1.1916e6</td><td>1</td><td>1.1916e6</td><td>0.997073</td><td>2025-07-18</td><td>&quot;AUTO-20250718084915CcTx6b&quot;</td></tr><tr><td>14043</td><td>1</td><td>38183390.847800</td><td>64</td><td>&quot;500指增&quot;</td><td>&quot;500指增&quot;</td><td>100</td><td>&quot;500_comm&quot;</td><td>&quot;stock&quot;</td><td>&quot;alpha&quot;</td><td>0.997073</td><td>0.968701</td><td>1.0</td><td>0.965865</td><td>36880012.654000</td><td>3.6880e7</td><td>null</td><td>null</td><td>0.997073</td><td>2025-07-18</td><td>&quot;AUTO-20250718084915CcTx6b&quot;</td></tr><tr><td>14044</td><td>1</td><td>38183390.847800</td><td>1</td><td>&quot;现金&quot;</td><td>&quot;现金&quot;</td><td>null</td><td>null</td><td>&quot;stock&quot;</td><td>&quot;_cash&quot;</td><td>0.002927</td><td>1.0</td><td>null</td><td>0.0</td><td>111778.193800</td><td>0.0</td><td>null</td><td>null</td><td>0.002927</td><td>2025-07-18</td><td>&quot;AUTO-20250718084915CcTx6b&quot;</td></tr></tbody></table></div>"
      ],
      "text/plain": [
       "shape: (3, 21)\n",
       "┌───────┬─────────┬─────────────┬───────┬───┬─────────────┬─────────────┬─────────────┬────────────┐\n",
       "│ id    ┆ fund_id ┆ fund_asset  ┆ is_id ┆ … ┆ future_pric ┆ target_is_e ┆ trading_day ┆ updater    │\n",
       "│ ---   ┆ ---     ┆ ---         ┆ ---   ┆   ┆ e           ┆ xpo         ┆ ---         ┆ ---        │\n",
       "│ i64   ┆ i64     ┆ decimal[*,6 ┆ i64   ┆   ┆ ---         ┆ ---         ┆ date        ┆ str        │\n",
       "│       ┆         ┆ ]           ┆       ┆   ┆ f64         ┆ f64         ┆             ┆            │\n",
       "╞═══════╪═════════╪═════════════╪═══════╪═══╪═════════════╪═════════════╪═════════════╪════════════╡\n",
       "│ 14042 ┆ 1       ┆ 38183390.84 ┆ 64    ┆ … ┆ 1.1916e6    ┆ 0.997073    ┆ 2025-07-18  ┆ AUTO-20250 │\n",
       "│       ┆         ┆ 7800        ┆       ┆   ┆             ┆             ┆             ┆ 718084915C │\n",
       "│       ┆         ┆             ┆       ┆   ┆             ┆             ┆             ┆ cTx6b      │\n",
       "│ 14043 ┆ 1       ┆ 38183390.84 ┆ 64    ┆ … ┆ null        ┆ 0.997073    ┆ 2025-07-18  ┆ AUTO-20250 │\n",
       "│       ┆         ┆ 7800        ┆       ┆   ┆             ┆             ┆             ┆ 718084915C │\n",
       "│       ┆         ┆             ┆       ┆   ┆             ┆             ┆             ┆ cTx6b      │\n",
       "│ 14044 ┆ 1       ┆ 38183390.84 ┆ 1     ┆ … ┆ null        ┆ 0.002927    ┆ 2025-07-18  ┆ AUTO-20250 │\n",
       "│       ┆         ┆ 7800        ┆       ┆   ┆             ┆             ┆             ┆ 718084915C │\n",
       "│       ┆         ┆             ┆       ┆   ┆             ┆             ┆             ┆ cTx6b      │\n",
       "└───────┴─────────┴─────────────┴───────┴───┴─────────────┴─────────────┴─────────────┴────────────┘"
      ]
     },
     "execution_count": 18,
     "metadata": {},
     "output_type": "execute_result"
    }
   ],
   "source": [
    "df.filter(pl.col(\"trading_day\") == datetime.date(2025, 7, 18)).filter(pl.col(\"fund_id\") == 1)"
   ]
  },
  {
   "cell_type": "code",
   "execution_count": 16,
   "id": "91976e37",
   "metadata": {},
   "outputs": [
    {
     "data": {
      "text/html": [
       "<div><style>\n",
       ".dataframe > thead > tr,\n",
       ".dataframe > tbody > tr {\n",
       "  text-align: right;\n",
       "  white-space: pre-wrap;\n",
       "}\n",
       "</style>\n",
       "<small>shape: (134, 2)</small><table border=\"1\" class=\"dataframe\"><thead><tr><th>fund_id</th><th>is_info</th></tr><tr><td>i64</td><td>list[struct[3]]</td></tr></thead><tbody><tr><td>1</td><td>[{64,&quot;500指增&quot;,&quot;500指增&quot;}, {64,&quot;500指增&quot;,&quot;500指增&quot;}, {1,&quot;现金&quot;,&quot;现金&quot;}]</td></tr><tr><td>18</td><td>[{3,&quot;1000对冲&quot;,&quot;中性&quot;}, {3,&quot;1000对冲&quot;,&quot;中性&quot;}, … {31,&quot;科创板指增&quot;,&quot;科创板指增&quot;}]</td></tr><tr><td>48</td><td>[{97,&quot;股票精选&quot;,&quot;股票精选&quot;}, {97,&quot;股票精选&quot;,&quot;股票精选&quot;}, {1,&quot;现金&quot;,&quot;现金&quot;}]</td></tr><tr><td>49</td><td>[{64,&quot;500指增&quot;,&quot;500指增&quot;}, {64,&quot;500指增&quot;,&quot;500指增&quot;}, {1,&quot;现金&quot;,&quot;现金&quot;}]</td></tr><tr><td>51</td><td>[{124,&quot;高频择时&quot;,&quot;高频择时&quot;}, {123,&quot;高频择时&quot;,&quot;高频择时&quot;}, … {142,&quot;高频择时测试&quot;,&quot;高频择时测试&quot;}]</td></tr><tr><td>&hellip;</td><td>&hellip;</td></tr><tr><td>445</td><td>[{96,&quot;股票精选&quot;,&quot;股票精选&quot;}, {90,&quot;科技创新精选&quot;,&quot;科技创新精选&quot;}]</td></tr><tr><td>446</td><td>[{99,&quot;300对冲&quot;,&quot;中性&quot;}, {99,&quot;300对冲&quot;,&quot;中性&quot;}, {90,&quot;科技创新精选&quot;,&quot;科技创新精选&quot;}]</td></tr><tr><td>448</td><td>[{1,&quot;现金&quot;,&quot;现金&quot;}, {90,&quot;科技创新精选&quot;,&quot;科技创新精选&quot;}]</td></tr><tr><td>452</td><td>[{4,&quot;500对冲&quot;,&quot;中性&quot;}, {4,&quot;500对冲&quot;,&quot;中性&quot;}, … {1,&quot;现金&quot;,&quot;现金&quot;}]</td></tr><tr><td>453</td><td>[{3,&quot;1000对冲&quot;,&quot;中性&quot;}, {3,&quot;1000对冲&quot;,&quot;中性&quot;}, … {32,&quot;ZZHL指增&quot;,&quot;ZZHL利指增&quot;}]</td></tr></tbody></table></div>"
      ],
      "text/plain": [
       "shape: (134, 2)\n",
       "┌─────────┬─────────────────────────────────┐\n",
       "│ fund_id ┆ is_info                         │\n",
       "│ ---     ┆ ---                             │\n",
       "│ i64     ┆ list[struct[3]]                 │\n",
       "╞═════════╪═════════════════════════════════╡\n",
       "│ 1       ┆ [{64,\"500指增\",\"500指增\"},      │\n",
       "│         ┆ {64,\"50…                        │\n",
       "│ 18      ┆ [{3,\"1000对冲\",\"中性\"},         │\n",
       "│         ┆ {3,\"1000对冲…                   │\n",
       "│ 48      ┆ [{97,\"股票精选\",\"股票精选\"},    │\n",
       "│         ┆ {97,\"股票精选…                  │\n",
       "│ 49      ┆ [{64,\"500指增\",\"500指增\"},      │\n",
       "│         ┆ {64,\"50…                        │\n",
       "│ 51      ┆ [{124,\"高频择时\",\"高频择时\"},   │\n",
       "│         ┆ {123,\"高频…                     │\n",
       "│ …       ┆ …                               │\n",
       "│ 445     ┆ [{96,\"股票精选\",\"股票精选\"},    │\n",
       "│         ┆ {90,\"科技创新…                  │\n",
       "│ 446     ┆ [{99,\"300对冲\",\"中性\"},         │\n",
       "│         ┆ {99,\"300对冲…                   │\n",
       "│ 448     ┆ [{1,\"现金\",\"现金\"},             │\n",
       "│         ┆ {90,\"科技创新精选\",\"…           │\n",
       "│ 452     ┆ [{4,\"500对冲\",\"中性\"},          │\n",
       "│         ┆ {4,\"500对冲\",…                  │\n",
       "│ 453     ┆ [{3,\"1000对冲\",\"中性\"},         │\n",
       "│         ┆ {3,\"1000对冲…                   │\n",
       "└─────────┴─────────────────────────────────┘"
      ]
     },
     "execution_count": 16,
     "metadata": {},
     "output_type": "execute_result"
    }
   ],
   "source": [
    "df.filter(pl.col(\"trading_day\") == datetime.date(2025, 7, 18)).group_by(\"fund_id\").agg(\n",
    "    pl.struct(pl.col(\"is_id\"), pl.col(\"is_name\"), pl.col(\"is_type\")).alias(\"is_info\")\n",
    ").sort(\"fund_id\")"
   ]
  },
  {
   "cell_type": "code",
   "execution_count": 19,
   "id": "64a22705",
   "metadata": {},
   "outputs": [
    {
     "ename": "ComputeError",
     "evalue": "found multiple elements in the same group, please specify an aggregation function",
     "output_type": "error",
     "traceback": [
      "\u001b[31m---------------------------------------------------------------------------\u001b[39m",
      "\u001b[31mComputeError\u001b[39m                              Traceback (most recent call last)",
      "\u001b[32m/tmp/ipykernel_35386/3889307767.py\u001b[39m in \u001b[36m?\u001b[39m\u001b[34m()\u001b[39m\n\u001b[32m----> \u001b[39m\u001b[32m1\u001b[39m df.filter(pl.col(\"trading_day\") == datetime.date(2025, 7, 18)).pivot(\n\u001b[32m      2\u001b[39m     on=\u001b[33m\"fund_id\"\u001b[39m, index=\u001b[33m\"is_id\"\u001b[39m, values=\u001b[33m\"is_wt\"\u001b[39m\n\u001b[32m      3\u001b[39m )\n",
      "\u001b[32m~/VSCode/sss_v2/.venv/lib/python3.12/site-packages/polars/_utils/deprecation.py\u001b[39m in \u001b[36m?\u001b[39m\u001b[34m(*args, **kwargs)\u001b[39m\n\u001b[32m    124\u001b[39m         \u001b[38;5;28;01mdef\u001b[39;00m wrapper(*args: P.args, **kwargs: P.kwargs) -> T:\n\u001b[32m    125\u001b[39m             _rename_keyword_argument(\n\u001b[32m    126\u001b[39m                 old_name, new_name, kwargs, function.__qualname__, version\n\u001b[32m    127\u001b[39m             )\n\u001b[32m--> \u001b[39m\u001b[32m128\u001b[39m             \u001b[38;5;28;01mreturn\u001b[39;00m function(*args, **kwargs)\n",
      "\u001b[32m~/VSCode/sss_v2/.venv/lib/python3.12/site-packages/polars/dataframe/frame.py\u001b[39m in \u001b[36m?\u001b[39m\u001b[34m(self, on, index, values, aggregate_function, maintain_order, sort_columns, separator)\u001b[39m\n\u001b[32m   9139\u001b[39m         \u001b[38;5;28;01melse\u001b[39;00m:\n\u001b[32m   9140\u001b[39m             aggregate_expr = aggregate_function._pyexpr\n\u001b[32m   9141\u001b[39m \n\u001b[32m   9142\u001b[39m         return self._from_pydf(\n\u001b[32m-> \u001b[39m\u001b[32m9143\u001b[39m             self._df.pivot_expr(\n\u001b[32m   9144\u001b[39m                 on,\n\u001b[32m   9145\u001b[39m                 index,\n\u001b[32m   9146\u001b[39m                 values,\n",
      "\u001b[31mComputeError\u001b[39m: found multiple elements in the same group, please specify an aggregation function"
     ]
    }
   ],
   "source": [
    "df.filter(pl.col(\"trading_day\") == datetime.date(2025, 7, 18)).pivot(\n",
    "    on=\"fund_id\", index=\"is_id\", values=\"is_wt\"\n",
    ")"
   ]
  }
 ],
 "metadata": {
  "kernelspec": {
   "display_name": ".venv",
   "language": "python",
   "name": "python3"
  },
  "language_info": {
   "codemirror_mode": {
    "name": "ipython",
    "version": 3
   },
   "file_extension": ".py",
   "mimetype": "text/x-python",
   "name": "python",
   "nbconvert_exporter": "python",
   "pygments_lexer": "ipython3",
   "version": "3.12.7"
  }
 },
 "nbformat": 4,
 "nbformat_minor": 5
}
